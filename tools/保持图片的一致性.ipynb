{
 "cells": [
  {
   "cell_type": "code",
   "execution_count": 28,
   "metadata": {},
   "outputs": [],
   "source": [
    "import os\n",
    "import re"
   ]
  },
  {
   "cell_type": "code",
   "execution_count": 37,
   "metadata": {},
   "outputs": [],
   "source": [
    "with open(file='./README.md', mode='r') as markdown_file:\n",
    "    file_buffer = markdown_file.read()"
   ]
  },
  {
   "cell_type": "markdown",
   "metadata": {},
   "source": [
    "## 这里使用https://regex101.com/来测试正则表达式"
   ]
  },
  {
   "cell_type": "code",
   "execution_count": 26,
   "metadata": {},
   "outputs": [
    {
     "name": "stdout",
     "output_type": "stream",
     "text": [
      "['2018-12-28-22-16-20.png', '2018-12-29-17-06-42.png', '2018-12-29-18-38-59.png', '2018-12-29-18-39-30.png', '2018-12-29-18-40-17.png', '1546085516505.png', '1546087781641.png', '1546088375285.png', '2018-12-27-11-05-49.png', '1546135560011.png', '1546137404871.png', '1546138815074.png', '1546139249376.png', '1546154705536.png', '1546154519720.png', '1546156688347.png', '2018-12-27-11-47-26.png', '1546081178458.png', '1546081446332.png', '1546153000959.png']\n"
     ]
    }
   ],
   "source": [
    "pattern = re.compile(r'!\\[.*?\\]\\(\\.\\./ML_markdown/%E5%9B%BE%E5%83%8F%E5%88%86%E5%89%B2/assets/(.*?)\\)')\n",
    "find_img = re.findall(pattern, file_buffer)\n",
    "print(find_img)"
   ]
  },
  {
   "cell_type": "code",
   "execution_count": 36,
   "metadata": {},
   "outputs": [
    {
     "name": "stdout",
     "output_type": "stream",
     "text": [
      "删除前存在的 ['1546135560011.png', '1546138815074.png', '1546154519720.png', '2018-12-29-18-40-17.png', '1546156688347.png', '1546154705536.png', '1546088375285.png', '1546139249376.png', '1546081446332.png', '2018-12-29-18-38-59.png', '1546153000959.png', '1546087781641.png', '2018-12-27-11-05-49.png', '1546085516505.png', '1546081178458.png', '2018-12-29-18-39-30.png', '2018-12-28-22-16-20.png', '1546137404871.png', '2018-12-27-11-47-26.png', '2018-12-29-17-06-42.png']\n",
      "删除后剩下的 ['1546135560011.png', '1546138815074.png', '1546154519720.png', '2018-12-29-18-40-17.png', '1546156688347.png', '1546154705536.png', '1546088375285.png', '1546139249376.png', '1546081446332.png', '2018-12-29-18-38-59.png', '1546153000959.png', '1546087781641.png', '2018-12-27-11-05-49.png', '1546085516505.png', '1546081178458.png', '2018-12-29-18-39-30.png', '2018-12-28-22-16-20.png', '1546137404871.png', '2018-12-27-11-47-26.png', '2018-12-29-17-06-42.png']\n"
     ]
    }
   ],
   "source": [
    "# 删除不存在的图片\n",
    "path = './assets/'\n",
    "img_existed = os.listdir(path)\n",
    "print(\"删除前存在的\", img_existed)\n",
    "img_willremove = set(img_existed) - set(find_img)\n",
    "for name in img_willremove:\n",
    "    os.remove(path + name)\n",
    "print(\"删除后剩下的\", os.listdir(path))"
   ]
  }
 ],
 "metadata": {
  "kernelspec": {
   "display_name": "Python 3",
   "language": "python",
   "name": "python3"
  },
  "language_info": {
   "codemirror_mode": {
    "name": "ipython",
    "version": 3
   },
   "file_extension": ".py",
   "mimetype": "text/x-python",
   "name": "python",
   "nbconvert_exporter": "python",
   "pygments_lexer": "ipython3",
   "version": "3.6.2"
  }
 },
 "nbformat": 4,
 "nbformat_minor": 2
}
